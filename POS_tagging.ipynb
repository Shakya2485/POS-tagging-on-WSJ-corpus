{
  "cells": [
    {
      "cell_type": "code",
      "execution_count": null,
      "metadata": {
        "id": "p_HwRJvH869x"
      },
      "outputs": [],
      "source": [
        "import numpy as np\n",
        "import tensorflow as tf\n",
        "import os\n",
        "from sklearn.model_selection import train_test_split\n",
        "from sklearn.metrics import accuracy_score, precision_score, recall_score, f1_score\n",
        "import tensorflow as tf\n",
        "from tensorflow.keras.preprocessing.sequence import pad_sequences\n"
      ]
    },
    {
      "cell_type": "code",
      "execution_count": null,
      "metadata": {
        "colab": {
          "base_uri": "https://localhost:8080/"
        },
        "id": "bCrAlZk689vs",
        "outputId": "79adfd30-de02-4974-da7e-6069c9d62db0"
      },
      "outputs": [
        {
          "output_type": "stream",
          "name": "stdout",
          "text": [
            "Archive:  WSJCorpus (2).zip\n",
            "replace raw/wsj_0042? [y]es, [n]o, [A]ll, [N]one, [r]ename: "
          ]
        }
      ],
      "source": [
        "!unzip WSJCorpus\\ \\(2\\).zip"
      ]
    },
    {
      "cell_type": "code",
      "execution_count": null,
      "metadata": {
        "id": "um9iGu-09HSW"
      },
      "outputs": [],
      "source": [
        "pos_texts = []\n",
        "raw_texts = []\n",
        "\n",
        "for filename in os.listdir(\"/content/pos\"):\n",
        "  if filename.endswith(\".pos\"):\n",
        "    with open(os.path.join(\"/content/pos\",filename),\"r\",encoding='utf-8') as file:\n",
        "      pos_texts.append(file.read())\n",
        "\n",
        "for filename in os.listdir(\"/content/raw\"):\n",
        "  if filename.startswith(\"wsj_\") and not filename.endswith(\".pos\"):\n",
        "    with open(os.path.join(\"/content/raw\", filename),\"r\",encoding ='utf-8' ) as file:\n",
        "      raw_texts.append(file.read())\n",
        "\n",
        "assert len(pos_texts) == len(raw_texts)\n"
      ]
    },
    {
      "cell_type": "code",
      "execution_count": null,
      "metadata": {
        "id": "WrSBcm00_QZb"
      },
      "outputs": [],
      "source": [
        "tokenized_sentences = [sentence.split() for sentence in  raw_texts]\n",
        "\n",
        "pos_tags3 = [sentence.split() for sentence in pos_texts]"
      ]
    },
    {
      "cell_type": "code",
      "execution_count": null,
      "metadata": {
        "id": "PxlWYmVplWg1"
      },
      "outputs": [],
      "source": [
        "pos_tags4 = []\n",
        "for i in pos_tags3:\n",
        "  pos_tags4.extend(i)"
      ]
    },
    {
      "cell_type": "code",
      "execution_count": null,
      "metadata": {
        "colab": {
          "base_uri": "https://localhost:8080/"
        },
        "id": "yP9-eUYYoaVf",
        "outputId": "9c240733-3360-4549-a3fe-93c9040dd26c"
      },
      "outputs": [
        {
          "output_type": "stream",
          "name": "stdout",
          "text": [
            "Requirement already satisfied: regex in /usr/local/lib/python3.10/dist-packages (2023.12.25)\n"
          ]
        }
      ],
      "source": [
        "!pip install regex"
      ]
    },
    {
      "cell_type": "code",
      "execution_count": null,
      "metadata": {
        "colab": {
          "base_uri": "https://localhost:8080/"
        },
        "id": "mA4wC1EqdWuI",
        "outputId": "ea33c308-cef9-43e4-d176-fadee7cc5a9a"
      },
      "outputs": [
        {
          "output_type": "stream",
          "name": "stdout",
          "text": [
            "Invalid pair: 3\\/8/CD\n",
            "Invalid pair: 1\\/8/CD\n",
            "Invalid pair: 1\\/4/CD\n",
            "Invalid pair: 3\\/8/CD\n",
            "Invalid pair: 1\\/2/CD\n",
            "Invalid pair: 3\\/8/CD\n",
            "Invalid pair: 1\\/2/CD\n",
            "Invalid pair: 5\\/8/CD\n",
            "Invalid pair: 5\\/8/CD\n",
            "Invalid pair: 1\\/2/CD\n",
            "Invalid pair: 7\\/8/CD\n",
            "Invalid pair: 1\\/2/CD\n",
            "Invalid pair: 1\\/4/CD\n",
            "Invalid pair: 3\\/4/CD\n",
            "Invalid pair: 7\\/8/CD\n",
            "Invalid pair: 7\\/8/CD\n",
            "Invalid pair: 3\\/4/CD\n",
            "Invalid pair: 7\\/8/CD\n",
            "Invalid pair: 5\\/8/CD\n",
            "Invalid pair: 1\\/2/CD\n",
            "Invalid pair: 1\\/2/CD\n",
            "Invalid pair: 3\\/4/CD\n",
            "Invalid pair: 3\\/4/CD\n",
            "Invalid pair: 7\\/8/CD\n",
            "Invalid pair: 1\\/4/CD\n",
            "Invalid pair: 3\\/4/CD\n",
            "Invalid pair: 1\\/4/CD\n",
            "Invalid pair: 5\\/8/CD\n",
            "Invalid pair: 3\\/4/CD\n",
            "Invalid pair: 5\\/8/CD\n",
            "Invalid pair: 7\\/8/CD\n",
            "Invalid pair: 5\\/8/CD\n",
            "Invalid pair: 5\\/8/CD\n",
            "Invalid pair: 1\\/4/CD\n",
            "Invalid pair: 3\\/4/CD\n",
            "Invalid pair: 1\\/2/CD\n",
            "Invalid pair: 5\\/8/CD\n",
            "Invalid pair: 1\\/4/CD\n",
            "Invalid pair: 1\\/4/CD\n",
            "Invalid pair: 7\\/8/CD\n",
            "Invalid pair: 3\\/4/CD\n",
            "Invalid pair: 3\\/4/CD\n",
            "Invalid pair: 3\\/4/CD\n",
            "Invalid pair: 7\\/8/CD\n",
            "Invalid pair: Guber\\/Peters/NNP\n",
            "Invalid pair: Guber\\/Peters/NNP\n",
            "Invalid pair: Property\\/casualty/NN\n",
            "Invalid pair: Macmillan\\/McGraw-Hill/NNP\n",
            "Invalid pair: 3\\/8/CD\n",
            "Invalid pair: 1\\/8/CD\n",
            "Invalid pair: 3\\/4/CD\n",
            "Invalid pair: 1\\/2/CD\n",
            "Invalid pair: 3\\/4/CD\n",
            "Invalid pair: 1\\/4/CD\n",
            "Invalid pair: 7\\/8/CD\n",
            "Invalid pair: 5\\/8/CD\n",
            "Invalid pair: 3\\/4/CD\n",
            "Invalid pair: 7\\/8/CD\n",
            "Invalid pair: 7\\/8/CD\n",
            "Invalid pair: 3\\/4/CD\n",
            "Invalid pair: 1\\/8/CD\n",
            "Invalid pair: 1\\/2/CD\n",
            "Invalid pair: 3\\/4/CD\n",
            "Invalid pair: 1\\/4/CD\n",
            "Invalid pair: 3\\/4/CD\n",
            "Invalid pair: 1\\/8/CD\n",
            "Invalid pair: 3\\/8/CD\n",
            "Invalid pair: 1\\/2/CD\n",
            "Invalid pair: 1\\/2/CD\n",
            "Invalid pair: 1\\/2/CD\n",
            "Invalid pair: 3\\/8/CD\n",
            "Invalid pair: 3\\/4/CD\n",
            "Invalid pair: 1\\/2/CD\n",
            "Invalid pair: 1\\/2/CD\n",
            "Invalid pair: 3\\/8/CD\n",
            "Invalid pair: 1\\/2/CD\n",
            "Invalid pair: 3\\/8/CD\n",
            "Invalid pair: 7\\/8/CD\n",
            "Invalid pair: 7\\/8/CD\n",
            "Invalid pair: 3\\/8/CD\n",
            "Invalid pair: 1\\/2/CD\n",
            "Invalid pair: 1\\/8/CD\n",
            "Invalid pair: 1\\/4/CD\n",
            "Invalid pair: 3\\/4/CD\n",
            "Invalid pair: 3\\/8/CD\n",
            "Invalid pair: 1\\/8/CD\n",
            "Invalid pair: 3\\/4/CD\n",
            "Invalid pair: 1\\/2/CD\n",
            "Invalid pair: 3\\/8/CD\n",
            "Invalid pair: 1\\/8/CD\n",
            "Invalid pair: property\\/casualty/NN\n",
            "Invalid pair: property\\/casualty/NN\n",
            "Invalid pair: 1\\/2/CD\n",
            "Invalid pair: summer\\/winter/JJ\n",
            "Invalid pair: 1\\/2/CD\n",
            "Invalid pair: 1\\/2/CD\n",
            "Invalid pair: 3\\/4/CD\n",
            "Invalid pair: 3\\/4/CD\n",
            "Invalid pair: 3\\/4/CD\n",
            "Invalid pair: 3\\/4/CD\n",
            "Invalid pair: 5\\/8/CD\n",
            "Invalid pair: 13\\/16/CD\n",
            "Invalid pair: 11\\/16/CD\n",
            "Invalid pair: 3\\/4/CD\n",
            "Invalid pair: 5\\/8/CD\n",
            "Invalid pair: 5\\/8/CD\n",
            "Invalid pair: 1\\/2/CD\n",
            "Invalid pair: 1\\/2/CD\n",
            "Invalid pair: 7\\/16/CD\n",
            "Invalid pair: 1\\/2/CD\n",
            "Invalid pair: 3\\/8/CD\n",
            "Invalid pair: 3\\/4/CD\n",
            "Invalid pair: 3\\/4/CD\n",
            "Invalid pair: 1\\/2/CD\n",
            "Invalid pair: 7\\/16/CD\n",
            "Invalid pair: 6\\/2/CD\n",
            "Invalid pair: 1\\/2/CD\n",
            "Invalid pair: 1\\/8/CD\n",
            "Invalid pair: 1\\/4/CD\n",
            "Invalid pair: 22\\/32/CD\n",
            "Invalid pair: 12\\/32/CD\n",
            "Invalid pair: 22\\/32/CD\n",
            "Invalid pair: 16\\/32/CD\n",
            "Invalid pair: 1\\/8/CD\n",
            "Invalid pair: 5\\/8/CD\n",
            "Invalid pair: 2\\/32/CD\n",
            "Invalid pair: 1\\/2/CD\n",
            "Invalid pair: 22\\/32/CD\n",
            "Invalid pair: 2\\/32/CD\n",
            "Invalid pair: 1\\/8/CD\n",
            "Invalid pair: 3\\/4/CD\n",
            "Invalid pair: 2003\\/2007/CD\n",
            "Invalid pair: 14\\/32/CD\n",
            "Invalid pair: 2\\/32/CD\n",
            "Invalid pair: 9\\/32/CD\n",
            "Invalid pair: 3\\/8/CD\n",
            "Invalid pair: Bridgestone\\/Firestone/NNP\n",
            "Invalid pair: savers\\/investors/NNS\n",
            "Invalid pair: Bridgestone\\/Firestone/NNP\n",
            "Invalid pair: 1\\/10th/NN\n",
            "Invalid pair: 3\\/8/CD\n",
            "Invalid pair: Iran\\/Contra/NNP\n",
            "Invalid pair: 1\\/8/CD\n",
            "Invalid pair: 3\\/4/CD\n",
            "Invalid pair: 1\\/4/CD\n",
            "Invalid pair: 3\\/8/CD\n",
            "Invalid pair: Macmillan\\/McGraw-Hill/NNP\n",
            "Invalid pair: Macmillan\\/McGraw-Hill/NNP\n",
            "Invalid pair: Macmillan\\/McGraw/NNP\n",
            "Invalid pair: Macmillan\\/McGraw/NN\n",
            "Invalid pair: Macmillan\\/McGraw/NNP\n",
            "Invalid pair: Macmillan\\/McGraw/NNP\n",
            "Invalid pair: Macmillan\\/McGraw/NNP\n",
            "Invalid pair: 50\\/50/CD\n",
            "Invalid pair: Ballantine\\/Del/NNP\n",
            "Invalid pair: Rey\\/Fawcett/NNP\n",
            "Invalid pair: 1\\/2/CD\n"
          ]
        }
      ],
      "source": [
        "import regex as re\n",
        "words = []\n",
        "pos_tags = []\n",
        "\n",
        "pattern = r'/'\n",
        "for pair in pos_tags4:\n",
        "  parts = re.split(pattern,pair)\n",
        "  if len(parts) == 2:\n",
        "    word,pos = parts\n",
        "    words.append(word)\n",
        "    pos_tags.append(pos)\n",
        "  else:\n",
        "    print(\"Invalid pair:\",pair)"
      ]
    },
    {
      "cell_type": "code",
      "execution_count": null,
      "metadata": {
        "colab": {
          "base_uri": "https://localhost:8080/"
        },
        "id": "nnk2dMqeqzde",
        "outputId": "f7537359-a698-459f-8321-d55057f687b6"
      },
      "outputs": [
        {
          "output_type": "execute_result",
          "data": {
            "text/plain": [
              "94043"
            ]
          },
          "metadata": {},
          "execution_count": 9
        }
      ],
      "source": [
        "len(words)"
      ]
    },
    {
      "cell_type": "code",
      "execution_count": null,
      "metadata": {
        "colab": {
          "base_uri": "https://localhost:8080/"
        },
        "id": "0t7UtqZRqzpI",
        "outputId": "4b0c6ab9-088e-4ee6-e08d-f7e412c9a570"
      },
      "outputs": [
        {
          "output_type": "execute_result",
          "data": {
            "text/plain": [
              "94043"
            ]
          },
          "metadata": {},
          "execution_count": 10
        }
      ],
      "source": [
        "len(pos_tags)"
      ]
    },
    {
      "cell_type": "code",
      "execution_count": null,
      "metadata": {
        "id": "--uxLXCyFDVa"
      },
      "outputs": [],
      "source": [
        "X_train, X_val_test, y_train, y_val_test = train_test_split(words,pos_tags,test_size =0.2,random_state =42)\n",
        "X_val,X_test,y_val,y_test = train_test_split(X_val_test,y_val_test,test_size =0.5,random_state=42)"
      ]
    },
    {
      "cell_type": "code",
      "execution_count": null,
      "metadata": {
        "id": "UEt8WCOjsGJd"
      },
      "outputs": [],
      "source": [
        "word2idx = {word:idx for idx, word in enumerate(words)}\n",
        "pos2idx = {pos: idx for idx, pos in enumerate(set(pos_tags))}\n"
      ]
    },
    {
      "cell_type": "code",
      "execution_count": null,
      "metadata": {
        "id": "OUsaiHHHsGNh"
      },
      "outputs": [],
      "source": [
        "X_train_idx = [word2idx[word] for word in X_train]\n",
        "y_train_idx = [pos2idx[tag] for tag in y_train]"
      ]
    },
    {
      "cell_type": "code",
      "execution_count": null,
      "metadata": {
        "id": "_pZuuIDS2qFV"
      },
      "outputs": [],
      "source": [
        "X_val_idx = [word2idx[word] for word in X_val]\n",
        "y_val_idx = [pos2idx[tag] for tag in y_val]"
      ]
    },
    {
      "cell_type": "code",
      "source": [
        "X_test_idx = [word2idx[word] for word in X_test]\n",
        "y_test_idx = [pos2idx[tag] for tag in y_test]"
      ],
      "metadata": {
        "id": "D5dz5p3r3DAp"
      },
      "execution_count": null,
      "outputs": []
    },
    {
      "cell_type": "code",
      "execution_count": null,
      "metadata": {
        "id": "3F30nqaExM1h"
      },
      "outputs": [],
      "source": [
        "class RNNPosTagger(tf.keras.Model):\n",
        "    def __init__(self, vocab_size, embedding_dim, rnn_units, num_classes):\n",
        "        super(RNNPosTagger, self).__init__()\n",
        "        self.embedding = tf.keras.layers.Embedding(vocab_size, embedding_dim)\n",
        "        self.rnn = tf.keras.layers.Bidirectional(tf.keras.layers.LSTM(rnn_units, return_sequences=True))\n",
        "        self.fc = tf.keras.layers.Dense(num_classes, activation=\"softmax\")\n",
        "\n",
        "    def call(self, x):\n",
        "\n",
        "        x = tf.expand_dims(x, axis=-1)\n",
        "        x = self.embedding(x)\n",
        "        x = self.rnn(x)\n",
        "        x = self.fc(x)\n",
        "        return x\n"
      ]
    },
    {
      "cell_type": "code",
      "execution_count": null,
      "metadata": {
        "id": "9qHeFqKLsGV4"
      },
      "outputs": [],
      "source": [
        "vocab_size = len(set(word for word in words))\n",
        "embedding_dim = 100\n",
        "rnn_units =128\n",
        "num_classes = len(set(tag for tag in pos_tags))"
      ]
    },
    {
      "cell_type": "code",
      "execution_count": null,
      "metadata": {
        "colab": {
          "base_uri": "https://localhost:8080/"
        },
        "id": "g7N287Z3sGZt",
        "outputId": "98b6f935-3e26-4c21-96fe-35325333c0e4"
      },
      "outputs": [
        {
          "output_type": "stream",
          "name": "stdout",
          "text": [
            "11962 46\n"
          ]
        }
      ],
      "source": [
        "print(vocab_size,num_classes)"
      ]
    },
    {
      "cell_type": "code",
      "execution_count": null,
      "metadata": {
        "id": "2Kq66fWvsGdB"
      },
      "outputs": [],
      "source": [
        "model = RNNPosTagger(vocab_size, embedding_dim, rnn_units, num_classes)\n"
      ]
    },
    {
      "cell_type": "code",
      "execution_count": null,
      "metadata": {
        "id": "NmJcGw8nvTAh"
      },
      "outputs": [],
      "source": [
        "optimizer = tf.keras.optimizers.Adam()\n",
        "loss_fn = tf.keras.losses.SparseCategoricalCrossentropy()\n"
      ]
    },
    {
      "cell_type": "code",
      "execution_count": null,
      "metadata": {
        "id": "IAmGlq3nvTDZ"
      },
      "outputs": [],
      "source": [
        "def train_step(model, inputs, labels):\n",
        "    with tf.GradientTape() as tape:\n",
        "        predictions = model(inputs)\n",
        "        loss = loss_fn(labels, predictions)\n",
        "    gradients = tape.gradient(loss, model.trainable_variables)\n",
        "    optimizer.apply_gradients(zip(gradients, model.trainable_variables))\n",
        "    return loss\n"
      ]
    },
    {
      "cell_type": "code",
      "execution_count": null,
      "metadata": {
        "colab": {
          "base_uri": "https://localhost:8080/",
          "height": 1000
        },
        "id": "J3zQxoLW1rjC",
        "outputId": "dcfee644-5329-4240-e417-83fb019ec543"
      },
      "outputs": [
        {
          "metadata": {
            "tags": null
          },
          "name": "stderr",
          "output_type": "stream",
          "text": [
            "WARNING:tensorflow:5 out of the last 5 calls to <function _BaseOptimizer._update_step_xla at 0x7aeca3712c20> triggered tf.function retracing. Tracing is expensive and the excessive number of tracings could be due to (1) creating @tf.function repeatedly in a loop, (2) passing tensors with different shapes, (3) passing Python objects instead of tensors. For (1), please define your @tf.function outside of the loop. For (2), @tf.function has reduce_retracing=True option that can avoid unnecessary retracing. For (3), please refer to https://www.tensorflow.org/guide/function#controlling_retracing and https://www.tensorflow.org/api_docs/python/tf/function for  more details.\n",
            "WARNING:tensorflow:6 out of the last 6 calls to <function _BaseOptimizer._update_step_xla at 0x7aeca3712c20> triggered tf.function retracing. Tracing is expensive and the excessive number of tracings could be due to (1) creating @tf.function repeatedly in a loop, (2) passing tensors with different shapes, (3) passing Python objects instead of tensors. For (1), please define your @tf.function outside of the loop. For (2), @tf.function has reduce_retracing=True option that can avoid unnecessary retracing. For (3), please refer to https://www.tensorflow.org/guide/function#controlling_retracing and https://www.tensorflow.org/api_docs/python/tf/function for  more details.\n"
          ]
        },
        {
          "output_type": "stream",
          "name": "stdout",
          "text": [
            "Epoch 1, Training Loss: 3.0237879753112793\n",
            "Epoch 1, Validation Loss: 3.0022034645080566\n",
            "Epoch 2, Training Loss: 2.979670286178589\n",
            "Epoch 2, Validation Loss: 2.999502658843994\n",
            "Epoch 3, Training Loss: 2.970538377761841\n",
            "Epoch 3, Validation Loss: 2.99951434135437\n",
            "Epoch 4, Training Loss: 2.9683940410614014\n",
            "Epoch 4, Validation Loss: 2.99949049949646\n",
            "Epoch 5, Training Loss: 2.967059850692749\n",
            "Epoch 5, Validation Loss: 2.999431848526001\n",
            "Epoch 6, Training Loss: 2.9664065837860107\n",
            "Epoch 6, Validation Loss: 2.9993438720703125\n",
            "Epoch 7, Training Loss: 2.966139078140259\n",
            "Epoch 7, Validation Loss: 2.9993298053741455\n",
            "Epoch 8, Training Loss: 2.965963363647461\n",
            "Epoch 8, Validation Loss: 2.999366283416748\n",
            "Epoch 9, Training Loss: 2.9658291339874268\n",
            "Epoch 9, Validation Loss: 2.999378204345703\n",
            "Epoch 10, Training Loss: 2.9657437801361084\n",
            "Epoch 10, Validation Loss: 2.9994089603424072\n",
            "Epoch 11, Training Loss: 2.965646982192993\n",
            "Epoch 11, Validation Loss: 2.9993927478790283\n",
            "Epoch 12, Training Loss: 2.965569496154785\n",
            "Epoch 12, Validation Loss: 2.999359607696533\n",
            "Epoch 13, Training Loss: 2.965494155883789\n",
            "Epoch 13, Validation Loss: 2.9993560314178467\n",
            "Epoch 14, Training Loss: 2.965435743331909\n",
            "Epoch 14, Validation Loss: 2.999321937561035\n",
            "Epoch 15, Training Loss: 2.965374708175659\n",
            "Epoch 15, Validation Loss: 2.9993157386779785\n",
            "Epoch 16, Training Loss: 2.965325117111206\n",
            "Epoch 16, Validation Loss: 2.999285936355591\n",
            "Epoch 17, Training Loss: 2.9652745723724365\n",
            "Epoch 17, Validation Loss: 2.999274969100952\n",
            "Epoch 18, Training Loss: 2.9652249813079834\n",
            "Epoch 18, Validation Loss: 2.9992477893829346\n",
            "Epoch 19, Training Loss: 2.9651849269866943\n",
            "Epoch 19, Validation Loss: 2.999239683151245\n",
            "Epoch 20, Training Loss: 2.9651401042938232\n",
            "Epoch 20, Validation Loss: 2.999220848083496\n"
          ]
        },
        {
          "output_type": "display_data",
          "data": {
            "text/plain": [
              "<Figure size 640x480 with 1 Axes>"
            ],
            "image/png": "[encoded data removed]"
          },
          "metadata": {}
        }
      ],
      "source": [
        "import matplotlib.pyplot as plt\n",
        "model.compile(optimizer='adam', loss='sparse_categorical_crossentropy')\n",
        "batch_size = 32\n",
        "train_losses = []\n",
        "val_losses = []\n",
        "epochs = 20\n",
        "for epoch in range(epochs):\n",
        "    epoch_loss = 0.0\n",
        "    num_batches = len(X_train_idx) // batch_size\n",
        "\n",
        "    for batch_idx in range(num_batches):\n",
        "        start_idx = batch_idx * batch_size\n",
        "        end_idx = min(start_idx + batch_size, len(X_train_idx))\n",
        "        batch_X_train = X_train_idx[start_idx:end_idx]\n",
        "        batch_y_train = y_train_idx[start_idx:end_idx]\n",
        "\n",
        "        # Convert sequences to TensorFlow tensors\n",
        "        batch_X_train_tensor = tf.convert_to_tensor(batch_X_train)\n",
        "        batch_y_train_tensor = tf.convert_to_tensor(batch_y_train)\n",
        "\n",
        "        # Perform a training step\n",
        "        loss = train_step(model, batch_X_train_tensor, batch_y_train_tensor)\n",
        "        epoch_loss += loss\n",
        "\n",
        "    # Calculate average epoch training loss\n",
        "    epoch_loss /= num_batches\n",
        "    train_losses.append(epoch_loss)\n",
        "\n",
        "    # Print or log the epoch training loss\n",
        "    print(f\"Epoch {epoch + 1}, Training Loss: {epoch_loss}\")\n",
        "\n",
        "    # Evaluate the model on the validation set\n",
        "    val_loss = model.evaluate(X_val_idx, y_val_idx, verbose=0)\n",
        "    val_losses.append(val_loss)\n",
        "\n",
        "    # Print or log the epoch validation loss\n",
        "    print(f\"Epoch {epoch + 1}, Validation Loss: {val_loss}\")\n",
        "\n",
        "# Plot the loss graph\n",
        "plt.plot(range(1, epochs + 1), train_losses, label='Training Loss')\n",
        "plt.plot(range(1, epochs + 1), val_losses, label='Validation Loss')\n",
        "plt.title('Training and Validation Loss')\n",
        "plt.xlabel('Epoch')\n",
        "plt.ylabel('Loss')\n",
        "plt.legend()\n",
        "plt.show()\n"
      ]
    },
    {
      "cell_type": "code",
      "execution_count": null,
      "metadata": {
        "id": "uGbEURQ23FEB",
        "colab": {
          "base_uri": "https://localhost:8080/"
        },
        "outputId": "aa9d8f1c-556a-4d54-eb5b-eb798ea4fe26"
      },
      "outputs": [
        {
          "output_type": "stream",
          "name": "stdout",
          "text": [
            "294/294 [==============================] - 1s 4ms/step\n"
          ]
        },
        {
          "output_type": "stream",
          "name": "stderr",
          "text": [
            "/usr/local/lib/python3.10/dist-packages/sklearn/metrics/_classification.py:1344: UndefinedMetricWarning: Precision is ill-defined and being set to 0.0 due to no predicted samples. Use `zero_division` parameter to control this behavior.\n",
            "  _warn_prf(average, modifier, msg_start, len(result))\n",
            "/usr/local/lib/python3.10/dist-packages/sklearn/metrics/_classification.py:1344: UndefinedMetricWarning: Precision is ill-defined and being set to 0.0 due to no predicted samples. Use `zero_division` parameter to control this behavior.\n",
            "  _warn_prf(average, modifier, msg_start, len(result))\n",
            "/usr/local/lib/python3.10/dist-packages/sklearn/metrics/_classification.py:1344: UndefinedMetricWarning: Precision is ill-defined and being set to 0.0 due to no predicted samples. Use `zero_division` parameter to control this behavior.\n",
            "  _warn_prf(average, modifier, msg_start, len(result))\n",
            "/usr/local/lib/python3.10/dist-packages/sklearn/metrics/_classification.py:1344: UndefinedMetricWarning: Precision is ill-defined and being set to 0.0 due to no predicted samples. Use `zero_division` parameter to control this behavior.\n",
            "  _warn_prf(average, modifier, msg_start, len(result))\n",
            "/usr/local/lib/python3.10/dist-packages/sklearn/metrics/_classification.py:1344: UndefinedMetricWarning: Precision is ill-defined and being set to 0.0 due to no predicted samples. Use `zero_division` parameter to control this behavior.\n",
            "  _warn_prf(average, modifier, msg_start, len(result))\n",
            "/usr/local/lib/python3.10/dist-packages/sklearn/metrics/_classification.py:1344: UndefinedMetricWarning: Precision is ill-defined and being set to 0.0 due to no predicted samples. Use `zero_division` parameter to control this behavior.\n",
            "  _warn_prf(average, modifier, msg_start, len(result))\n",
            "/usr/local/lib/python3.10/dist-packages/sklearn/metrics/_classification.py:1344: UndefinedMetricWarning: Precision is ill-defined and being set to 0.0 due to no predicted samples. Use `zero_division` parameter to control this behavior.\n",
            "  _warn_prf(average, modifier, msg_start, len(result))\n",
            "/usr/local/lib/python3.10/dist-packages/sklearn/metrics/_classification.py:1344: UndefinedMetricWarning: Precision is ill-defined and being set to 0.0 due to no predicted samples. Use `zero_division` parameter to control this behavior.\n",
            "  _warn_prf(average, modifier, msg_start, len(result))\n",
            "/usr/local/lib/python3.10/dist-packages/sklearn/metrics/_classification.py:1344: UndefinedMetricWarning: Precision is ill-defined and being set to 0.0 due to no predicted samples. Use `zero_division` parameter to control this behavior.\n",
            "  _warn_prf(average, modifier, msg_start, len(result))\n",
            "/usr/local/lib/python3.10/dist-packages/sklearn/metrics/_classification.py:1344: UndefinedMetricWarning: Precision is ill-defined and being set to 0.0 due to no predicted samples. Use `zero_division` parameter to control this behavior.\n",
            "  _warn_prf(average, modifier, msg_start, len(result))\n",
            "/usr/local/lib/python3.10/dist-packages/sklearn/metrics/_classification.py:1344: UndefinedMetricWarning: Precision is ill-defined and being set to 0.0 due to no predicted samples. Use `zero_division` parameter to control this behavior.\n",
            "  _warn_prf(average, modifier, msg_start, len(result))\n",
            "/usr/local/lib/python3.10/dist-packages/sklearn/metrics/_classification.py:1344: UndefinedMetricWarning: Precision is ill-defined and being set to 0.0 due to no predicted samples. Use `zero_division` parameter to control this behavior.\n",
            "  _warn_prf(average, modifier, msg_start, len(result))\n",
            "/usr/local/lib/python3.10/dist-packages/sklearn/metrics/_classification.py:1344: UndefinedMetricWarning: Precision is ill-defined and being set to 0.0 due to no predicted samples. Use `zero_division` parameter to control this behavior.\n",
            "  _warn_prf(average, modifier, msg_start, len(result))\n",
            "/usr/local/lib/python3.10/dist-packages/sklearn/metrics/_classification.py:1344: UndefinedMetricWarning: Precision is ill-defined and being set to 0.0 due to no predicted samples. Use `zero_division` parameter to control this behavior.\n",
            "  _warn_prf(average, modifier, msg_start, len(result))\n",
            "/usr/local/lib/python3.10/dist-packages/sklearn/metrics/_classification.py:1344: UndefinedMetricWarning: Precision is ill-defined and being set to 0.0 due to no predicted samples. Use `zero_division` parameter to control this behavior.\n",
            "  _warn_prf(average, modifier, msg_start, len(result))\n",
            "/usr/local/lib/python3.10/dist-packages/sklearn/metrics/_classification.py:1344: UndefinedMetricWarning: Precision is ill-defined and being set to 0.0 due to no predicted samples. Use `zero_division` parameter to control this behavior.\n",
            "  _warn_prf(average, modifier, msg_start, len(result))\n",
            "/usr/local/lib/python3.10/dist-packages/sklearn/metrics/_classification.py:1344: UndefinedMetricWarning: Precision is ill-defined and being set to 0.0 due to no predicted samples. Use `zero_division` parameter to control this behavior.\n",
            "  _warn_prf(average, modifier, msg_start, len(result))\n",
            "/usr/local/lib/python3.10/dist-packages/sklearn/metrics/_classification.py:1344: UndefinedMetricWarning: Precision is ill-defined and being set to 0.0 due to no predicted samples. Use `zero_division` parameter to control this behavior.\n",
            "  _warn_prf(average, modifier, msg_start, len(result))\n",
            "/usr/local/lib/python3.10/dist-packages/sklearn/metrics/_classification.py:1344: UndefinedMetricWarning: Precision is ill-defined and being set to 0.0 due to no predicted samples. Use `zero_division` parameter to control this behavior.\n",
            "  _warn_prf(average, modifier, msg_start, len(result))\n",
            "/usr/local/lib/python3.10/dist-packages/sklearn/metrics/_classification.py:1344: UndefinedMetricWarning: Precision is ill-defined and being set to 0.0 due to no predicted samples. Use `zero_division` parameter to control this behavior.\n",
            "  _warn_prf(average, modifier, msg_start, len(result))\n",
            "/usr/local/lib/python3.10/dist-packages/sklearn/metrics/_classification.py:1344: UndefinedMetricWarning: Precision is ill-defined and being set to 0.0 due to no predicted samples. Use `zero_division` parameter to control this behavior.\n",
            "  _warn_prf(average, modifier, msg_start, len(result))\n",
            "/usr/local/lib/python3.10/dist-packages/sklearn/metrics/_classification.py:1344: UndefinedMetricWarning: Precision is ill-defined and being set to 0.0 due to no predicted samples. Use `zero_division` parameter to control this behavior.\n",
            "  _warn_prf(average, modifier, msg_start, len(result))\n",
            "/usr/local/lib/python3.10/dist-packages/sklearn/metrics/_classification.py:1344: UndefinedMetricWarning: Precision is ill-defined and being set to 0.0 due to no predicted samples. Use `zero_division` parameter to control this behavior.\n",
            "  _warn_prf(average, modifier, msg_start, len(result))\n",
            "/usr/local/lib/python3.10/dist-packages/sklearn/metrics/_classification.py:1344: UndefinedMetricWarning: Precision is ill-defined and being set to 0.0 due to no predicted samples. Use `zero_division` parameter to control this behavior.\n",
            "  _warn_prf(average, modifier, msg_start, len(result))\n",
            "/usr/local/lib/python3.10/dist-packages/sklearn/metrics/_classification.py:1344: UndefinedMetricWarning: Precision is ill-defined and being set to 0.0 due to no predicted samples. Use `zero_division` parameter to control this behavior.\n",
            "  _warn_prf(average, modifier, msg_start, len(result))\n",
            "/usr/local/lib/python3.10/dist-packages/sklearn/metrics/_classification.py:1344: UndefinedMetricWarning: Precision is ill-defined and being set to 0.0 due to no predicted samples. Use `zero_division` parameter to control this behavior.\n",
            "  _warn_prf(average, modifier, msg_start, len(result))\n",
            "/usr/local/lib/python3.10/dist-packages/sklearn/metrics/_classification.py:1344: UndefinedMetricWarning: Precision is ill-defined and being set to 0.0 due to no predicted samples. Use `zero_division` parameter to control this behavior.\n",
            "  _warn_prf(average, modifier, msg_start, len(result))\n",
            "/usr/local/lib/python3.10/dist-packages/sklearn/metrics/_classification.py:1344: UndefinedMetricWarning: Precision is ill-defined and being set to 0.0 due to no predicted samples. Use `zero_division` parameter to control this behavior.\n",
            "  _warn_prf(average, modifier, msg_start, len(result))\n",
            "/usr/local/lib/python3.10/dist-packages/sklearn/metrics/_classification.py:1344: UndefinedMetricWarning: Precision is ill-defined and being set to 0.0 due to no predicted samples. Use `zero_division` parameter to control this behavior.\n",
            "  _warn_prf(average, modifier, msg_start, len(result))\n",
            "/usr/local/lib/python3.10/dist-packages/sklearn/metrics/_classification.py:1344: UndefinedMetricWarning: Precision is ill-defined and being set to 0.0 due to no predicted samples. Use `zero_division` parameter to control this behavior.\n",
            "  _warn_prf(average, modifier, msg_start, len(result))\n",
            "/usr/local/lib/python3.10/dist-packages/sklearn/metrics/_classification.py:1344: UndefinedMetricWarning: Precision is ill-defined and being set to 0.0 due to no predicted samples. Use `zero_division` parameter to control this behavior.\n",
            "  _warn_prf(average, modifier, msg_start, len(result))\n",
            "/usr/local/lib/python3.10/dist-packages/sklearn/metrics/_classification.py:1344: UndefinedMetricWarning: Precision is ill-defined and being set to 0.0 due to no predicted samples. Use `zero_division` parameter to control this behavior.\n",
            "  _warn_prf(average, modifier, msg_start, len(result))\n"
          ]
        },
        {
          "output_type": "stream",
          "name": "stdout",
          "text": [
            "POS Tag: VBG\n",
            "Accuracy: 0.9835194045720361\n",
            "Precision: 1.0\n",
            "Recall: 0.012738853503184714\n",
            "F1-score: 0.025157232704402517\n",
            "\n",
            "POS Tag: .\n",
            "Accuracy: 0.9586390217969165\n",
            "Precision: 0.0\n",
            "Recall: 0.0\n",
            "F1-score: 0.0\n",
            "\n",
            "POS Tag: $\n",
            "Accuracy: 0.9923444976076555\n",
            "Precision: 0.0\n",
            "Recall: 0.0\n",
            "F1-score: 0.0\n",
            "\n",
            "POS Tag: ,\n",
            "Accuracy: 0.9461988304093567\n",
            "Precision: 0.0\n",
            "Recall: 0.0\n",
            "F1-score: 0.0\n",
            "\n",
            "POS Tag: DT\n",
            "Accuracy: 0.9148325358851674\n",
            "Precision: 0.0\n",
            "Recall: 0.0\n",
            "F1-score: 0.0\n",
            "\n",
            "POS Tag: JJS\n",
            "Accuracy: 0.9984051036682615\n",
            "Precision: 0.0\n",
            "Recall: 0.0\n",
            "F1-score: 0.0\n",
            "\n",
            "POS Tag: NNP\n",
            "Accuracy: 0.9033492822966507\n",
            "Precision: 0.6470588235294118\n",
            "Recall: 0.012035010940919038\n",
            "F1-score: 0.023630504833512353\n",
            "\n",
            "POS Tag: (\n",
            "Accuracy: 0.9985114300903775\n",
            "Precision: 0.0\n",
            "Recall: 0.0\n",
            "F1-score: 0.0\n",
            "\n",
            "POS Tag: UH\n",
            "Accuracy: 1.0\n",
            "Precision: 0.0\n",
            "Recall: 0.0\n",
            "F1-score: 0.0\n",
            "\n",
            "POS Tag: TO\n",
            "Accuracy: 0.9746943115364168\n",
            "Precision: 0.0\n",
            "Recall: 0.0\n",
            "F1-score: 0.0\n",
            "\n",
            "POS Tag: WDT\n",
            "Accuracy: 0.9946836788942052\n",
            "Precision: 0.0\n",
            "Recall: 0.0\n",
            "F1-score: 0.0\n",
            "\n",
            "POS Tag: PDT\n",
            "Accuracy: 0.9997873471557682\n",
            "Precision: 0.0\n",
            "Recall: 0.0\n",
            "F1-score: 0.0\n",
            "\n",
            "POS Tag: VB\n",
            "Accuracy: 0.9718234981392876\n",
            "Precision: 0.0\n",
            "Recall: 0.0\n",
            "F1-score: 0.0\n",
            "\n",
            "POS Tag: FW\n",
            "Accuracy: 0.9998936735778841\n",
            "Precision: 0.0\n",
            "Recall: 0.0\n",
            "F1-score: 0.0\n",
            "\n",
            "POS Tag: JJ\n",
            "Accuracy: 0.9368421052631579\n",
            "Precision: 1.0\n",
            "Recall: 0.005025125628140704\n",
            "F1-score: 0.01\n",
            "\n",
            "POS Tag: IN\n",
            "Accuracy: 0.8949494949494949\n",
            "Precision: 0.0\n",
            "Recall: 0.0\n",
            "F1-score: 0.0\n",
            "\n",
            "POS Tag: WP\n",
            "Accuracy: 0.9971291866028709\n",
            "Precision: 0.0\n",
            "Recall: 0.0\n",
            "F1-score: 0.0\n",
            "\n",
            "POS Tag: NN\n",
            "Accuracy: 0.1465178096757044\n",
            "Precision: 0.14401536163857478\n",
            "Recall: 0.9977827050997783\n",
            "F1-score: 0.2517013144401976\n",
            "\n",
            "POS Tag: VBZ\n",
            "Accuracy: 0.9777777777777777\n",
            "Precision: 0.0\n",
            "Recall: 0.0\n",
            "F1-score: 0.0\n",
            "\n",
            "POS Tag: VBP\n",
            "Accuracy: 0.9872408293460925\n",
            "Precision: 0.0\n",
            "Recall: 0.0\n",
            "F1-score: 0.0\n",
            "\n",
            "POS Tag: PRP\n",
            "Accuracy: 0.9832004253056885\n",
            "Precision: 0.0\n",
            "Recall: 0.0\n",
            "F1-score: 0.0\n",
            "\n",
            "POS Tag: #\n",
            "Accuracy: 1.0\n",
            "Precision: 0.0\n",
            "Recall: 0.0\n",
            "F1-score: 0.0\n",
            "\n",
            "POS Tag: VBG|NN\n",
            "Accuracy: 1.0\n",
            "Precision: 0.0\n",
            "Recall: 0.0\n",
            "F1-score: 0.0\n",
            "\n",
            "POS Tag: POS\n",
            "Accuracy: 0.990749601275917\n",
            "Precision: 0.0\n",
            "Recall: 0.0\n",
            "F1-score: 0.0\n",
            "\n",
            "POS Tag: ''\n",
            "Accuracy: 0.9917065390749601\n",
            "Precision: 0.0\n",
            "Recall: 0.0\n",
            "F1-score: 0.0\n",
            "\n",
            "POS Tag: RB\n",
            "Accuracy: 0.970441254651781\n",
            "Precision: 0.0\n",
            "Recall: 0.0\n",
            "F1-score: 0.0\n",
            "\n",
            "POS Tag: MD\n",
            "Accuracy: 0.9883040935672515\n",
            "Precision: 0.0\n",
            "Recall: 0.0\n",
            "F1-score: 0.0\n",
            "\n",
            "POS Tag: RBS\n",
            "Accuracy: 0.9996810207336523\n",
            "Precision: 0.0\n",
            "Recall: 0.0\n",
            "F1-score: 0.0\n",
            "\n",
            "POS Tag: LS\n",
            "Accuracy: 0.9996810207336523\n",
            "Precision: 0.0\n",
            "Recall: 0.0\n",
            "F1-score: 0.0\n",
            "\n",
            "POS Tag: RP\n",
            "Accuracy: 0.9994683678894205\n",
            "Precision: 0.0\n",
            "Recall: 0.0\n",
            "F1-score: 0.0\n",
            "\n",
            "POS Tag: SYM\n",
            "Accuracy: 1.0\n",
            "Precision: 0.0\n",
            "Recall: 0.0\n",
            "F1-score: 0.0\n",
            "\n",
            "POS Tag: NNS\n",
            "Accuracy: 0.9386496544391282\n",
            "Precision: 1.0\n",
            "Recall: 0.005172413793103448\n",
            "F1-score: 0.010291595197255574\n",
            "\n",
            "POS Tag: ``\n",
            "Accuracy: 0.9930887825624668\n",
            "Precision: 0.0\n",
            "Recall: 0.0\n",
            "F1-score: 0.0\n",
            "\n",
            "POS Tag: VBD\n",
            "Accuracy: 0.9681020733652312\n",
            "Precision: 1.0\n",
            "Recall: 0.0033222591362126247\n",
            "F1-score: 0.006622516556291392\n",
            "\n",
            "POS Tag: WP$\n",
            "Accuracy: 0.9998936735778841\n",
            "Precision: 0.0\n",
            "Recall: 0.0\n",
            "F1-score: 0.0\n",
            "\n",
            "POS Tag: CC\n",
            "Accuracy: 0.9727804359383306\n",
            "Precision: 0.0\n",
            "Recall: 0.0\n",
            "F1-score: 0.0\n",
            "\n",
            "POS Tag: JJR\n",
            "Accuracy: 0.9968102073365231\n",
            "Precision: 0.0\n",
            "Recall: 0.0\n",
            "F1-score: 0.0\n",
            "\n",
            "POS Tag: VBN\n",
            "Accuracy: 0.9787347155768208\n",
            "Precision: 0.0\n",
            "Recall: 0.0\n",
            "F1-score: 0.0\n",
            "\n",
            "POS Tag: PRP$\n",
            "Accuracy: 0.9916002126528443\n",
            "Precision: 0.0\n",
            "Recall: 0.0\n",
            "F1-score: 0.0\n",
            "\n",
            "POS Tag: )\n",
            "Accuracy: 0.9987240829346092\n",
            "Precision: 0.0\n",
            "Recall: 0.0\n",
            "F1-score: 0.0\n",
            "\n",
            "POS Tag: :\n",
            "Accuracy: 0.9946836788942052\n",
            "Precision: 0.0\n",
            "Recall: 0.0\n",
            "F1-score: 0.0\n",
            "\n",
            "POS Tag: EX\n",
            "Accuracy: 0.9992557150451887\n",
            "Precision: 0.0\n",
            "Recall: 0.0\n",
            "F1-score: 0.0\n",
            "\n",
            "POS Tag: NNPS\n",
            "Accuracy: 0.9970228601807549\n",
            "Precision: 0.0\n",
            "Recall: 0.0\n",
            "F1-score: 0.0\n",
            "\n",
            "POS Tag: CD\n",
            "Accuracy: 0.9638490164805954\n",
            "Precision: 1.0\n",
            "Recall: 0.005847953216374269\n",
            "F1-score: 0.011627906976744186\n",
            "\n",
            "POS Tag: WRB\n",
            "Accuracy: 0.9988304093567252\n",
            "Precision: 0.0\n",
            "Recall: 0.0\n",
            "F1-score: 0.0\n",
            "\n",
            "POS Tag: RBR\n",
            "Accuracy: 0.9993620414673047\n",
            "Precision: 0.0\n",
            "Recall: 0.0\n",
            "F1-score: 0.0\n",
            "\n"
          ]
        },
        {
          "output_type": "stream",
          "name": "stderr",
          "text": [
            "/usr/local/lib/python3.10/dist-packages/sklearn/metrics/_classification.py:1344: UndefinedMetricWarning: Precision is ill-defined and being set to 0.0 due to no predicted samples. Use `zero_division` parameter to control this behavior.\n",
            "  _warn_prf(average, modifier, msg_start, len(result))\n",
            "/usr/local/lib/python3.10/dist-packages/sklearn/metrics/_classification.py:1344: UndefinedMetricWarning: Precision is ill-defined and being set to 0.0 due to no predicted samples. Use `zero_division` parameter to control this behavior.\n",
            "  _warn_prf(average, modifier, msg_start, len(result))\n"
          ]
        }
      ],
      "source": [
        "from sklearn.metrics import accuracy_score, precision_score, recall_score, f1_score\n",
        "\n",
        "# Make predictions on the testing data\n",
        "y_pred = model.predict(X_test_idx)\n",
        "idx2pos = {idx: pos for pos, idx in pos2idx.items()}\n",
        "\n",
        "# Convert predicted labels back to original POS tags\n",
        "y_pred_tags = [idx2pos[np.argmax(pred)] for pred in y_pred]\n",
        "\n",
        "# Calculate evaluation metrics for each POS tag\n",
        "pos_tags = set(pos_tags)\n",
        "evaluation_metrics = {}\n",
        "\n",
        "for tag in pos_tags:\n",
        "    true_labels = [tag == true_tag for true_tag in y_test]\n",
        "    pred_labels = [tag == pred_tag for pred_tag in y_pred_tags]\n",
        "\n",
        "    accuracy = accuracy_score(true_labels, pred_labels)\n",
        "\n",
        "    # Calculate precision, recall, and F1-score only if there are true positives (TP)\n",
        "    if sum(true_labels) > 0:\n",
        "        precision = precision_score(true_labels, pred_labels)\n",
        "        recall = recall_score(true_labels, pred_labels)\n",
        "        f1 = f1_score(true_labels, pred_labels)\n",
        "    else:\n",
        "        precision = 0.0\n",
        "        recall = 0.0\n",
        "        f1 = 0.0\n",
        "\n",
        "    evaluation_metrics[tag] = {'Accuracy': accuracy, 'Precision': precision, 'Recall': recall, 'F1-score': f1}\n",
        "\n",
        "# Print evaluation metrics for each POS tag\n",
        "for tag, metrics in evaluation_metrics.items():\n",
        "    print(f\"POS Tag: {tag}\")\n",
        "    for metric_name, value in metrics.items():\n",
        "        print(f\"{metric_name}: {value}\")\n",
        "    print()\n"
      ]
    }
  ],
  "metadata": {
    "accelerator": "GPU",
    "colab": {
      "gpuType": "T4",
      "provenance": []
    },
    "kernelspec": {
      "display_name": "Python 3",
      "name": "python3"
    },
    "language_info": {
      "name": "python"
    }
  },
  "nbformat": 4,
  "nbformat_minor": 0
}